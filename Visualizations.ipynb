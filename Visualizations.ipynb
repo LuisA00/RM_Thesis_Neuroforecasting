{
 "cells": [
  {
   "cell_type": "code",
   "execution_count": 17,
   "metadata": {},
   "outputs": [],
   "source": [
    "import os\n",
    "import pandas as pd\n",
    "import numpy as np\n",
    "from glob import glob\n",
    "import seaborn as sns\n",
    "import matplotlib.pyplot as plt\n",
    "from scipy.stats.mstats import pearsonr"
   ]
  },
  {
   "cell_type": "markdown",
   "metadata": {},
   "source": [
    "# Clean data"
   ]
  },
  {
   "cell_type": "code",
   "execution_count": 18,
   "metadata": {},
   "outputs": [
    {
     "name": "stdout",
     "output_type": "stream",
     "text": [
      "Current working dir : /Users/luisalvarez/Documents/GitHub\n"
     ]
    }
   ],
   "source": [
    "# Open a datasets directory. \n",
    "fd = os.open(\"/Users/luisalvarez/Documents/GitHub\", os.O_RDONLY)\n",
    "\n",
    "# Use os.fchdir() method to change the current dir/folder.\n",
    "os.fchdir(fd)\n",
    "\n",
    "# Safe check- Print current working directory\n",
    "print(\"Current working dir : %s\" % os.getcwd())"
   ]
  },
  {
   "cell_type": "code",
   "execution_count": 19,
   "metadata": {},
   "outputs": [
    {
     "data": {
      "text/plain": [
       "(519, 26)"
      ]
     },
     "execution_count": 19,
     "metadata": {},
     "output_type": "execute_result"
    }
   ],
   "source": [
    "# Open csv file. \n",
    "all_subs_events_df = pd.read_csv('RM_Thesis_Neuroforecasting/ProcessedData/AllSubs_NeuralActivation.csv')\n",
    "all_subs_events_df.shape"
   ]
  },
  {
   "cell_type": "code",
   "execution_count": 20,
   "metadata": {},
   "outputs": [
    {
     "data": {
      "text/html": [
       "<div>\n",
       "<style scoped>\n",
       "    .dataframe tbody tr th:only-of-type {\n",
       "        vertical-align: middle;\n",
       "    }\n",
       "\n",
       "    .dataframe tbody tr th {\n",
       "        vertical-align: top;\n",
       "    }\n",
       "\n",
       "    .dataframe thead th {\n",
       "        text-align: right;\n",
       "    }\n",
       "</style>\n",
       "<table border=\"1\" class=\"dataframe\">\n",
       "  <thead>\n",
       "    <tr style=\"text-align: right;\">\n",
       "      <th></th>\n",
       "      <th>Participant</th>\n",
       "      <th>Trailer</th>\n",
       "      <th>Type</th>\n",
       "      <th>Onset</th>\n",
       "      <th>Offset</th>\n",
       "      <th>Duration</th>\n",
       "      <th>W_score</th>\n",
       "      <th>A_score</th>\n",
       "      <th>F_score</th>\n",
       "      <th>NAcc_onset</th>\n",
       "      <th>...</th>\n",
       "      <th>AIns_offset</th>\n",
       "      <th>MPFC_offset</th>\n",
       "      <th>Pos_arousal</th>\n",
       "      <th>Neg_arousal</th>\n",
       "      <th>NAcc_whole</th>\n",
       "      <th>AIns_whole</th>\n",
       "      <th>MPFC_whole</th>\n",
       "      <th>NAcc_ISC</th>\n",
       "      <th>AIns_ISC</th>\n",
       "      <th>MPFC_ISC</th>\n",
       "    </tr>\n",
       "  </thead>\n",
       "  <tbody>\n",
       "    <tr>\n",
       "      <th>0</th>\n",
       "      <td>sub-01</td>\n",
       "      <td>rh6</td>\n",
       "      <td>Horror</td>\n",
       "      <td>12.0</td>\n",
       "      <td>42.0</td>\n",
       "      <td>30</td>\n",
       "      <td>2</td>\n",
       "      <td>2</td>\n",
       "      <td>3</td>\n",
       "      <td>0.064028</td>\n",
       "      <td>...</td>\n",
       "      <td>0.026331</td>\n",
       "      <td>0.163302</td>\n",
       "      <td>1.052438</td>\n",
       "      <td>0.000000</td>\n",
       "      <td>-0.042905</td>\n",
       "      <td>-0.088879</td>\n",
       "      <td>-0.007073</td>\n",
       "      <td>0.266382</td>\n",
       "      <td>-0.191707</td>\n",
       "      <td>0.175619</td>\n",
       "    </tr>\n",
       "    <tr>\n",
       "      <th>1</th>\n",
       "      <td>sub-01</td>\n",
       "      <td>uh1</td>\n",
       "      <td>Horror</td>\n",
       "      <td>60.0</td>\n",
       "      <td>90.0</td>\n",
       "      <td>30</td>\n",
       "      <td>4</td>\n",
       "      <td>2</td>\n",
       "      <td>2</td>\n",
       "      <td>0.195911</td>\n",
       "      <td>...</td>\n",
       "      <td>0.225587</td>\n",
       "      <td>0.467529</td>\n",
       "      <td>1.578657</td>\n",
       "      <td>-0.526219</td>\n",
       "      <td>0.175271</td>\n",
       "      <td>-0.086980</td>\n",
       "      <td>0.179370</td>\n",
       "      <td>0.148708</td>\n",
       "      <td>0.019473</td>\n",
       "      <td>0.347244</td>\n",
       "    </tr>\n",
       "    <tr>\n",
       "      <th>2</th>\n",
       "      <td>sub-01</td>\n",
       "      <td>rc2</td>\n",
       "      <td>Comedy</td>\n",
       "      <td>108.0</td>\n",
       "      <td>138.0</td>\n",
       "      <td>30</td>\n",
       "      <td>4</td>\n",
       "      <td>4</td>\n",
       "      <td>2</td>\n",
       "      <td>-0.182903</td>\n",
       "      <td>...</td>\n",
       "      <td>0.030835</td>\n",
       "      <td>0.122349</td>\n",
       "      <td>2.104876</td>\n",
       "      <td>0.000000</td>\n",
       "      <td>0.098620</td>\n",
       "      <td>0.087262</td>\n",
       "      <td>0.284549</td>\n",
       "      <td>-0.640832</td>\n",
       "      <td>-0.297852</td>\n",
       "      <td>-0.271321</td>\n",
       "    </tr>\n",
       "    <tr>\n",
       "      <th>3</th>\n",
       "      <td>sub-01</td>\n",
       "      <td>rh2</td>\n",
       "      <td>Horror</td>\n",
       "      <td>152.0</td>\n",
       "      <td>182.0</td>\n",
       "      <td>30</td>\n",
       "      <td>2</td>\n",
       "      <td>3</td>\n",
       "      <td>3</td>\n",
       "      <td>-0.182863</td>\n",
       "      <td>...</td>\n",
       "      <td>0.382745</td>\n",
       "      <td>0.269132</td>\n",
       "      <td>1.315547</td>\n",
       "      <td>0.263109</td>\n",
       "      <td>-0.090121</td>\n",
       "      <td>-0.054949</td>\n",
       "      <td>-0.115633</td>\n",
       "      <td>0.401342</td>\n",
       "      <td>0.021984</td>\n",
       "      <td>0.283881</td>\n",
       "    </tr>\n",
       "    <tr>\n",
       "      <th>4</th>\n",
       "      <td>sub-01</td>\n",
       "      <td>rh1</td>\n",
       "      <td>Horror</td>\n",
       "      <td>196.0</td>\n",
       "      <td>226.0</td>\n",
       "      <td>30</td>\n",
       "      <td>1</td>\n",
       "      <td>2</td>\n",
       "      <td>3</td>\n",
       "      <td>0.122135</td>\n",
       "      <td>...</td>\n",
       "      <td>-0.097531</td>\n",
       "      <td>0.459132</td>\n",
       "      <td>0.789328</td>\n",
       "      <td>0.263109</td>\n",
       "      <td>0.010083</td>\n",
       "      <td>0.050793</td>\n",
       "      <td>0.234606</td>\n",
       "      <td>0.025039</td>\n",
       "      <td>-0.055259</td>\n",
       "      <td>-0.105202</td>\n",
       "    </tr>\n",
       "  </tbody>\n",
       "</table>\n",
       "<p>5 rows × 26 columns</p>\n",
       "</div>"
      ],
      "text/plain": [
       "  Participant Trailer    Type  Onset  Offset  Duration  W_score  A_score  \\\n",
       "0      sub-01     rh6  Horror   12.0    42.0        30        2        2   \n",
       "1      sub-01     uh1  Horror   60.0    90.0        30        4        2   \n",
       "2      sub-01     rc2  Comedy  108.0   138.0        30        4        4   \n",
       "3      sub-01     rh2  Horror  152.0   182.0        30        2        3   \n",
       "4      sub-01     rh1  Horror  196.0   226.0        30        1        2   \n",
       "\n",
       "   F_score  NAcc_onset  ...  AIns_offset  MPFC_offset  Pos_arousal  \\\n",
       "0        3    0.064028  ...     0.026331     0.163302     1.052438   \n",
       "1        2    0.195911  ...     0.225587     0.467529     1.578657   \n",
       "2        2   -0.182903  ...     0.030835     0.122349     2.104876   \n",
       "3        3   -0.182863  ...     0.382745     0.269132     1.315547   \n",
       "4        3    0.122135  ...    -0.097531     0.459132     0.789328   \n",
       "\n",
       "   Neg_arousal  NAcc_whole  AIns_whole  MPFC_whole  NAcc_ISC  AIns_ISC  \\\n",
       "0     0.000000   -0.042905   -0.088879   -0.007073  0.266382 -0.191707   \n",
       "1    -0.526219    0.175271   -0.086980    0.179370  0.148708  0.019473   \n",
       "2     0.000000    0.098620    0.087262    0.284549 -0.640832 -0.297852   \n",
       "3     0.263109   -0.090121   -0.054949   -0.115633  0.401342  0.021984   \n",
       "4     0.263109    0.010083    0.050793    0.234606  0.025039 -0.055259   \n",
       "\n",
       "   MPFC_ISC  \n",
       "0  0.175619  \n",
       "1  0.347244  \n",
       "2 -0.271321  \n",
       "3  0.283881  \n",
       "4 -0.105202  \n",
       "\n",
       "[5 rows x 26 columns]"
      ]
     },
     "execution_count": 20,
     "metadata": {},
     "output_type": "execute_result"
    }
   ],
   "source": [
    "# Drop outliers from positive arousal. \n",
    "all_subs_events_df = all_subs_events_df[all_subs_events_df[\"Pos_arousal\"] < 3]\n",
    "all_subs_events_df.head()"
   ]
  },
  {
   "cell_type": "code",
   "execution_count": 21,
   "metadata": {},
   "outputs": [],
   "source": [
    "# Separate files based on type of trailer. \n",
    "all_subs_events_horror = all_subs_events_df[all_subs_events_df[\"Type\"] == \"Horror\"]\n",
    "all_subs_events_horror.reset_index(drop=True, inplace=True)\n",
    "\n",
    "\n",
    "all_subs_events_comedy = all_subs_events_df[all_subs_events_df[\"Type\"] == \"Comedy\"]\n",
    "all_subs_events_comedy.reset_index(drop=True, inplace=True)\n"
   ]
  },
  {
   "cell_type": "markdown",
   "metadata": {},
   "source": [
    "# Visualize data "
   ]
  },
  {
   "cell_type": "markdown",
   "metadata": {},
   "source": [
    "## Behavioral Associations. "
   ]
  },
  {
   "cell_type": "code",
   "execution_count": 22,
   "metadata": {},
   "outputs": [
    {
     "name": "stdout",
     "output_type": "stream",
     "text": [
      "The correlation between W_score and Pos_arousal is: 0.7744 with a p-value of: 1.8074472642998732e-104\n",
      "The correlation between A_score and Pos_arousal is: 0.7498 with a p-value of: 2.0293486569762963e-94\n"
     ]
    }
   ],
   "source": [
    "# Correlation between W_score and Pos_arousal and A_score and Pos_arousal for both types of trailers. \n",
    "W_PA_All_corr = pearsonr(all_subs_events_df[\"W_score\"], all_subs_events_df[\"Pos_arousal\"])\n",
    "A_PA_All_corr = pearsonr(all_subs_events_df[\"A_score\"], all_subs_events_df[\"Pos_arousal\"])\n",
    "\n",
    "print(\"The correlation between W_score and Pos_arousal is: \" + str(round(W_PA_All_corr[0], 4)) + \" with a p-value of: \" + str((W_PA_All_corr[1])))\n",
    "print(\"The correlation between A_score and Pos_arousal is: \" + str(round(A_PA_All_corr[0], 4)) + \" with a p-value of: \" + str((A_PA_All_corr[1])))\n"
   ]
  },
  {
   "cell_type": "code",
   "execution_count": 23,
   "metadata": {},
   "outputs": [
    {
     "name": "stdout",
     "output_type": "stream",
     "text": [
      "The correlation between W_score and Pos_arousal for comedy trailers is: 0.852 with a p-value of: 1.2881464158463945e-73\n",
      "The correlation between A_score and Pos_arousal for comedy trailers is: 0.8072 with a p-value of: 2.542002653648031e-60\n"
     ]
    }
   ],
   "source": [
    "# Correlation between W_score and Pos_arousal and A_score and Pos_arousal for comedy trailers.\n",
    "W_PA_comedy_corr = pearsonr(all_subs_events_comedy[\"W_score\"], all_subs_events_comedy[\"Pos_arousal\"])\n",
    "A_PA_comedy_corr = pearsonr(all_subs_events_comedy[\"A_score\"], all_subs_events_comedy[\"Pos_arousal\"])\n",
    "\n",
    "print(\"The correlation between W_score and Pos_arousal for comedy trailers is: \" + str(round(W_PA_comedy_corr[0], 4)) + \" with a p-value of: \" + str((W_PA_comedy_corr[1])))\n",
    "print(\"The correlation between A_score and Pos_arousal for comedy trailers is: \" + str(round(A_PA_comedy_corr[0], 4)) + \" with a p-value of: \" + str((A_PA_comedy_corr[1])))\n"
   ]
  },
  {
   "cell_type": "code",
   "execution_count": 24,
   "metadata": {},
   "outputs": [
    {
     "name": "stdout",
     "output_type": "stream",
     "text": [
      "The correlation between W_score and Pos_arousal for horror trailers is: 0.7276 with a p-value of: 4.0912282096793e-44\n",
      "The correlation between A_score and Pos_arousal for horror trailers is: 0.7239 with a p-value of: 1.721398055579383e-43\n"
     ]
    }
   ],
   "source": [
    "# Correlation between W_score and Pos_arousal and A_score and Pos_arousal for horror trailers.\n",
    "W_PA_horror_corr = pearsonr(all_subs_events_horror[\"W_score\"], all_subs_events_horror[\"Pos_arousal\"])\n",
    "A_PA_horror_corr = pearsonr(all_subs_events_horror[\"A_score\"], all_subs_events_horror[\"Pos_arousal\"])\n",
    "\n",
    "print(\"The correlation between W_score and Pos_arousal for horror trailers is: \" + str(round(W_PA_horror_corr[0], 4)) + \" with a p-value of: \" + str((W_PA_horror_corr[1])))\n",
    "print(\"The correlation between A_score and Pos_arousal for horror trailers is: \" + str(round(A_PA_horror_corr[0], 4)) + \" with a p-value of: \" + str((A_PA_horror_corr[1])))"
   ]
  },
  {
   "cell_type": "markdown",
   "metadata": {},
   "source": [
    "## Neural Activation Whole Average "
   ]
  },
  {
   "cell_type": "code",
   "execution_count": 25,
   "metadata": {},
   "outputs": [
    {
     "name": "stdout",
     "output_type": "stream",
     "text": [
      "For both types of trailers, the correlation between NAcc whole activation and positive arousal is: 0.01358 with a p-value of: 0.7580864799138494\n",
      "For both types of trailers, the correlation between AIns whole activation and positive arousal is: -0.0316 with a p-value of: 0.4733768478454951\n",
      "For both types of trailers, the correlation between MPFC whole activation and positive arousal is: 0.11012 with a p-value of: 0.012228893701415519\n",
      "\n",
      "For both types of trailers, the correlation between NAcc whole activation and negative arousal is: -0.06237 with a p-value of: 0.15672279080062199\n",
      "For both types of trailers, the correlation between AIns whole activation and negative arousal is: -0.22245 with a p-value of: 3.22458780784898e-07\n",
      "For both types of trailers, the correlation between MPFC whole activation and negative arousal is: -0.06835 with a p-value of: 0.12061032362350425\n",
      "\n",
      "For both types of trailers, the correlation between NAcc whole activation and watch scores is: 0.03664 with a p-value of: 0.4057134539890318\n",
      "For both types of trailers, the correlation between AIns whole activation and watch scores is: 0.1036 with a p-value of: 0.018456082016662472\n",
      "For both types of trailers, the correlation between MPFC whole activation and watch scores is: 0.1388 with a p-value of: 0.0015585377403709469\n"
     ]
    }
   ],
   "source": [
    "# Correlation with Positive Arousal. \n",
    "NAcc_PA_whole_All_corr = pearsonr(all_subs_events_df[\"NAcc_whole\"], all_subs_events_df[\"Pos_arousal\"])\n",
    "AIns_PA_whole_All_corr = pearsonr(all_subs_events_df[\"AIns_whole\"], all_subs_events_df[\"Pos_arousal\"])\n",
    "MPFC_PA_whole_All_corr = pearsonr(all_subs_events_df[\"MPFC_whole\"], all_subs_events_df[\"Pos_arousal\"])\n",
    "\n",
    "# Correlation with Negative Arousal.\n",
    "NAcc_NA_whole_All_corr = pearsonr(all_subs_events_df[\"NAcc_whole\"], all_subs_events_df[\"Neg_arousal\"])\n",
    "AIns_NA_whole_All_corr = pearsonr(all_subs_events_df[\"AIns_whole\"], all_subs_events_df[\"Neg_arousal\"])\n",
    "MPFC_NA_whole_All_corr = pearsonr(all_subs_events_df[\"MPFC_whole\"], all_subs_events_df[\"Neg_arousal\"])\n",
    "\n",
    "# Correlation with Watch Scores. \n",
    "NAcc_W_whole_All_corr = pearsonr(all_subs_events_df[\"NAcc_whole\"], all_subs_events_df[\"W_score\"])\n",
    "AIns_W_whole_All_corr = pearsonr(all_subs_events_df[\"AIns_whole\"], all_subs_events_df[\"W_score\"])\n",
    "MPFC_W_whole_All_corr = pearsonr(all_subs_events_df[\"MPFC_whole\"], all_subs_events_df[\"W_score\"])\n",
    "\n",
    "print(\"For both types of trailers, the correlation between NAcc whole activation and positive arousal is: \" + str(round(NAcc_PA_whole_All_corr[0], 5)) + \" with a p-value of: \" + str((NAcc_PA_whole_All_corr[1])))\n",
    "print(\"For both types of trailers, the correlation between AIns whole activation and positive arousal is: \" + str(round(AIns_PA_whole_All_corr[0], 5)) + \" with a p-value of: \" + str((AIns_PA_whole_All_corr[1])))\n",
    "print(\"For both types of trailers, the correlation between MPFC whole activation and positive arousal is: \" + str(round(MPFC_PA_whole_All_corr[0], 5)) + \" with a p-value of: \" + str((MPFC_PA_whole_All_corr[1])))\n",
    "\n",
    "print(\"\\nFor both types of trailers, the correlation between NAcc whole activation and negative arousal is: \" + str(round(NAcc_NA_whole_All_corr[0], 5)) + \" with a p-value of: \" + str((NAcc_NA_whole_All_corr[1])))\n",
    "print(\"For both types of trailers, the correlation between AIns whole activation and negative arousal is: \" + str(round(AIns_NA_whole_All_corr[0], 5)) + \" with a p-value of: \" + str((AIns_NA_whole_All_corr[1])))\n",
    "print(\"For both types of trailers, the correlation between MPFC whole activation and negative arousal is: \" + str(round(MPFC_NA_whole_All_corr[0], 5)) + \" with a p-value of: \" + str((MPFC_NA_whole_All_corr[1])))\n",
    "\n",
    "print(\"\\nFor both types of trailers, the correlation between NAcc whole activation and watch scores is: \" + str(round(NAcc_W_whole_All_corr[0], 5)) + \" with a p-value of: \" + str((NAcc_W_whole_All_corr[1])))\n",
    "print(\"For both types of trailers, the correlation between AIns whole activation and watch scores is: \" + str(round(AIns_W_whole_All_corr[0], 5)) + \" with a p-value of: \" + str((AIns_W_whole_All_corr[1])))\n",
    "print(\"For both types of trailers, the correlation between MPFC whole activation and watch scores is: \" + str(round(MPFC_W_whole_All_corr[0], 5)) + \" with a p-value of: \" + str((MPFC_W_whole_All_corr[1])))\n"
   ]
  },
  {
   "cell_type": "code",
   "execution_count": 26,
   "metadata": {},
   "outputs": [
    {
     "name": "stdout",
     "output_type": "stream",
     "text": [
      "For comedy trailers, the correlation between NAcc whole activation and positive arousal is: 0.10012 with a p-value of: 0.10931065684515907\n",
      "For comedy trailers, the correlation between AIns whole activation and positive arousal is: 0.01064 with a p-value of: 0.8652413137501374\n",
      "For comedy trailers, the correlation between MPFC whole activation and positive arousal is: 0.14989 with a p-value of: 0.01618310081423355\n",
      "\n",
      "For comedy trailers, the correlation between NAcc whole activation and negative arousal is: -0.07834 with a p-value of: 0.2106605708250434\n",
      "For comedy trailers, the correlation between AIns whole activation and negative arousal is: -0.12536 with a p-value of: 0.044667531460940824\n",
      "For comedy trailers, the correlation between MPFC whole activation and negative arousal is: -0.07424 with a p-value of: 0.23559495979512665\n",
      "\n",
      "For comedy trailers, the correlation between NAcc whole activation and watch scores is: 0.11506 with a p-value of: 0.06552090774628598\n",
      "For comedy trailers, the correlation between AIns whole activation and watch scores is: 0.04941 with a p-value of: 0.43028575883905584\n",
      "For comedy trailers, the correlation between MPFC whole activation and watch scores is: 0.1817 with a p-value of: 0.0034661467750255054\n"
     ]
    }
   ],
   "source": [
    "# Whole Neural Activation and PA-NA for Comedy Trailers.\n",
    "NAcc_PA_whole_C_corr = pearsonr(all_subs_events_comedy[\"NAcc_whole\"], all_subs_events_comedy[\"Pos_arousal\"])\n",
    "AIns_PA_whole_C_corr = pearsonr(all_subs_events_comedy[\"AIns_whole\"], all_subs_events_comedy[\"Pos_arousal\"])\n",
    "MPFC_PA_whole_C_corr = pearsonr(all_subs_events_comedy[\"MPFC_whole\"], all_subs_events_comedy[\"Pos_arousal\"])\n",
    "\n",
    "NAcc_NA_whole_C_corr = pearsonr(all_subs_events_comedy[\"NAcc_whole\"], all_subs_events_comedy[\"Neg_arousal\"])\n",
    "AIns_NA_whole_C_corr = pearsonr(all_subs_events_comedy[\"AIns_whole\"], all_subs_events_comedy[\"Neg_arousal\"])\n",
    "MPFC_NA_whole_C_corr = pearsonr(all_subs_events_comedy[\"MPFC_whole\"], all_subs_events_comedy[\"Neg_arousal\"])\n",
    "\n",
    "NAcc_W_whole_C_corr = pearsonr(all_subs_events_comedy[\"NAcc_whole\"], all_subs_events_comedy[\"W_score\"])\n",
    "AIns_W_whole_C_corr = pearsonr(all_subs_events_comedy[\"AIns_whole\"], all_subs_events_comedy[\"W_score\"])\n",
    "MPFC_W_whole_C_corr = pearsonr(all_subs_events_comedy[\"MPFC_whole\"], all_subs_events_comedy[\"W_score\"])\n",
    "\n",
    "print(\"For comedy trailers, the correlation between NAcc whole activation and positive arousal is: \" + str(round(NAcc_PA_whole_C_corr[0], 5)) + \" with a p-value of: \" + str((NAcc_PA_whole_C_corr[1])))\n",
    "print(\"For comedy trailers, the correlation between AIns whole activation and positive arousal is: \" + str(round(AIns_PA_whole_C_corr[0], 5)) + \" with a p-value of: \" + str((AIns_PA_whole_C_corr[1])))\n",
    "print(\"For comedy trailers, the correlation between MPFC whole activation and positive arousal is: \" + str(round(MPFC_PA_whole_C_corr[0], 5)) + \" with a p-value of: \" + str((MPFC_PA_whole_C_corr[1])))\n",
    "\n",
    "print(\"\\nFor comedy trailers, the correlation between NAcc whole activation and negative arousal is: \" + str(round(NAcc_NA_whole_C_corr[0], 5)) + \" with a p-value of: \" + str((NAcc_NA_whole_C_corr[1])))\n",
    "print(\"For comedy trailers, the correlation between AIns whole activation and negative arousal is: \" + str(round(AIns_NA_whole_C_corr[0], 5)) + \" with a p-value of: \" + str((AIns_NA_whole_C_corr[1])))\n",
    "print(\"For comedy trailers, the correlation between MPFC whole activation and negative arousal is: \" + str(round(MPFC_NA_whole_C_corr[0], 5)) + \" with a p-value of: \" + str((MPFC_NA_whole_C_corr[1])))\n",
    "\n",
    "print(\"\\nFor comedy trailers, the correlation between NAcc whole activation and watch scores is: \" + str(round(NAcc_W_whole_C_corr[0], 5)) + \" with a p-value of: \" + str((NAcc_W_whole_C_corr[1])))\n",
    "print(\"For comedy trailers, the correlation between AIns whole activation and watch scores is: \" + str(round(AIns_W_whole_C_corr[0], 5)) + \" with a p-value of: \" + str((AIns_W_whole_C_corr[1])))\n",
    "print(\"For comedy trailers, the correlation between MPFC whole activation and watch scores is: \" + str(round(MPFC_W_whole_C_corr[0], 5)) + \" with a p-value of: \" + str((MPFC_W_whole_C_corr[1])))\n",
    "      \n",
    "      "
   ]
  },
  {
   "cell_type": "code",
   "execution_count": 27,
   "metadata": {},
   "outputs": [
    {
     "name": "stdout",
     "output_type": "stream",
     "text": [
      "For horror trailers, the correlation between NAcc whole activation and positive arousal is: -0.0695 with a p-value of: 0.26417850115058844\n",
      "For horror trailers, the correlation between AIns whole activation and positive arousal is: -0.06446 with a p-value of: 0.30043976851747883\n",
      "For horror trailers, the correlation between MPFC whole activation and positive arousal is: 0.06363 with a p-value of: 0.3066979356822651\n",
      "\n",
      "For horror trailers, the correlation between NAcc whole activation and negative arousal is: -0.07118 with a p-value of: 0.25279456466057604\n",
      "For horror trailers, the correlation between AIns whole activation and negative arousal is: -0.17355 with a p-value of: 0.005010914101756404\n",
      "For horror trailers, the correlation between MPFC whole activation and negative arousal is: -0.08559 with a p-value of: 0.16880670651770618\n",
      "\n",
      "For horror trailers, the correlation between NAcc whole activation and watch scores is: -0.02515 with a p-value of: 0.6864564215883625\n",
      "For horror trailers, the correlation between AIns whole activation and watch scores is: 0.08371 with a p-value of: 0.17840684237961066\n",
      "For horror trailers, the correlation between MPFC whole activation and watch scores is: 0.10316 with a p-value of: 0.09695800786436871\n"
     ]
    }
   ],
   "source": [
    "# Whole Neural Activation and PA-NA for Horror Trailers.\n",
    "NAcc_PA_whole_H_corr = pearsonr(all_subs_events_horror[\"NAcc_whole\"], all_subs_events_horror[\"Pos_arousal\"])\n",
    "AIns_PA_whole_H_corr = pearsonr(all_subs_events_horror[\"AIns_whole\"], all_subs_events_horror[\"Pos_arousal\"])\n",
    "MPFC_PA_whole_H_corr = pearsonr(all_subs_events_horror[\"MPFC_whole\"], all_subs_events_horror[\"Pos_arousal\"])\n",
    "\n",
    "NAcc_NA_whole_H_corr = pearsonr(all_subs_events_horror[\"NAcc_whole\"], all_subs_events_horror[\"Neg_arousal\"])\n",
    "AIns_NA_whole_H_corr = pearsonr(all_subs_events_horror[\"AIns_whole\"], all_subs_events_horror[\"Neg_arousal\"])\n",
    "MPFC_NA_whole_H_corr = pearsonr(all_subs_events_horror[\"MPFC_whole\"], all_subs_events_horror[\"Neg_arousal\"])\n",
    "\n",
    "NAcc_W_whole_H_corr = pearsonr(all_subs_events_horror[\"NAcc_whole\"], all_subs_events_horror[\"W_score\"])\n",
    "AIns_W_whole_H_corr = pearsonr(all_subs_events_horror[\"AIns_whole\"], all_subs_events_horror[\"W_score\"])\n",
    "MPFC_W_whole_H_corr = pearsonr(all_subs_events_horror[\"MPFC_whole\"], all_subs_events_horror[\"W_score\"])\n",
    "\n",
    "print(\"For horror trailers, the correlation between NAcc whole activation and positive arousal is: \" + str(round(NAcc_PA_whole_H_corr[0], 5)) + \" with a p-value of: \" + str((NAcc_PA_whole_H_corr[1])))\n",
    "print(\"For horror trailers, the correlation between AIns whole activation and positive arousal is: \" + str(round(AIns_PA_whole_H_corr[0], 5)) + \" with a p-value of: \" + str((AIns_PA_whole_H_corr[1])))\n",
    "print(\"For horror trailers, the correlation between MPFC whole activation and positive arousal is: \" + str(round(MPFC_PA_whole_H_corr[0], 5)) + \" with a p-value of: \" + str((MPFC_PA_whole_H_corr[1])))\n",
    "\n",
    "print(\"\\nFor horror trailers, the correlation between NAcc whole activation and negative arousal is: \" + str(round(NAcc_NA_whole_H_corr[0], 5)) + \" with a p-value of: \" + str((NAcc_NA_whole_H_corr[1])))\n",
    "print(\"For horror trailers, the correlation between AIns whole activation and negative arousal is: \" + str(round(AIns_NA_whole_H_corr[0], 5)) + \" with a p-value of: \" + str((AIns_NA_whole_H_corr[1])))\n",
    "print(\"For horror trailers, the correlation between MPFC whole activation and negative arousal is: \" + str(round(MPFC_NA_whole_H_corr[0], 5)) + \" with a p-value of: \" + str((MPFC_NA_whole_H_corr[1])))\n",
    "\n",
    "print(\"\\nFor horror trailers, the correlation between NAcc whole activation and watch scores is: \" + str(round(NAcc_W_whole_H_corr[0], 5)) + \" with a p-value of: \" + str((NAcc_W_whole_H_corr[1])))\n",
    "print(\"For horror trailers, the correlation between AIns whole activation and watch scores is: \" + str(round(AIns_W_whole_H_corr[0], 5)) + \" with a p-value of: \" + str((AIns_W_whole_H_corr[1])))\n",
    "print(\"For horror trailers, the correlation between MPFC whole activation and watch scores is: \" + str(round(MPFC_W_whole_H_corr[0], 5)) + \" with a p-value of: \" + str((MPFC_W_whole_H_corr[1])))\n",
    "\n"
   ]
  },
  {
   "cell_type": "markdown",
   "metadata": {},
   "source": [
    "## Neural Activation Offset "
   ]
  },
  {
   "cell_type": "code",
   "execution_count": 28,
   "metadata": {},
   "outputs": [
    {
     "name": "stdout",
     "output_type": "stream",
     "text": [
      "For both types of trailers, the correlation between NAcc offset activation and positive arousal is: -0.0109 with a p-value of: 0.8047517037527535\n",
      "For both types of trailers, the correlation between AIns offset activation and positive arousal is: -0.01865 with a p-value of: 0.6722639662950041\n",
      "For both types of trailers, the correlation between MPFC offset activation and positive arousal is: 0.05481 with a p-value of: 0.21345693252852624\n",
      "\n",
      "For both types of trailers, the correlation between NAcc offset activation and negative arousal is: -0.01337 with a p-value of: 0.7616533152140849\n",
      "For both types of trailers, the correlation between AIns offset activation and negative arousal is: -0.16002 with a p-value of: 0.00025904058311788876\n",
      "For both types of trailers, the correlation between MPFC offset activation and negative arousal is: -0.0713 with a p-value of: 0.10536817715509338\n",
      "\n",
      "For both types of trailers, the correlation between NAcc offset activation and watch scores is: -0.02799 with a p-value of: 0.525348603577012\n",
      "For both types of trailers, the correlation between AIns offset activation and watch scores is: 0.06843 with a p-value of: 0.12019532332175455\n",
      "For both types of trailers, the correlation between MPFC offset activation and watch scores is: 0.10567 with a p-value of: 0.016230929635362327\n"
     ]
    }
   ],
   "source": [
    "# Correlation with Positive Arousal. \n",
    "NAcc_PA_Off_All_corr = pearsonr(all_subs_events_df[\"NAcc_offset\"], all_subs_events_df[\"Pos_arousal\"])\n",
    "AIns_PA_Off_All_corr = pearsonr(all_subs_events_df[\"AIns_offset\"], all_subs_events_df[\"Pos_arousal\"])\n",
    "MPFC_PA_Off_All_corr = pearsonr(all_subs_events_df[\"MPFC_offset\"], all_subs_events_df[\"Pos_arousal\"])\n",
    "\n",
    "# Correlation with Negative Arousal.\n",
    "NAcc_NA_Off_All_corr = pearsonr(all_subs_events_df[\"NAcc_offset\"], all_subs_events_df[\"Neg_arousal\"])\n",
    "AIns_NA_Off_All_corr = pearsonr(all_subs_events_df[\"AIns_offset\"], all_subs_events_df[\"Neg_arousal\"])\n",
    "MPFC_NA_Off_All_corr = pearsonr(all_subs_events_df[\"MPFC_offset\"], all_subs_events_df[\"Neg_arousal\"])\n",
    "\n",
    "# Correlation with Watch Scores.\n",
    "NAcc_W_Off_All_corr = pearsonr(all_subs_events_df[\"NAcc_offset\"], all_subs_events_df[\"W_score\"])\n",
    "AIns_W_Off_All_corr = pearsonr(all_subs_events_df[\"AIns_offset\"], all_subs_events_df[\"W_score\"])\n",
    "MPFC_W_Off_All_corr = pearsonr(all_subs_events_df[\"MPFC_offset\"], all_subs_events_df[\"W_score\"])\n",
    "\n",
    "print(\"For both types of trailers, the correlation between NAcc offset activation and positive arousal is: \" + str(round(NAcc_PA_Off_All_corr[0], 5)) + \" with a p-value of: \" + str((NAcc_PA_Off_All_corr[1])))\n",
    "print(\"For both types of trailers, the correlation between AIns offset activation and positive arousal is: \" + str(round(AIns_PA_Off_All_corr[0], 5)) + \" with a p-value of: \" + str((AIns_PA_Off_All_corr[1])))\n",
    "print(\"For both types of trailers, the correlation between MPFC offset activation and positive arousal is: \" + str(round(MPFC_PA_Off_All_corr[0], 5)) + \" with a p-value of: \" + str((MPFC_PA_Off_All_corr[1])))\n",
    "\n",
    "print(\"\\nFor both types of trailers, the correlation between NAcc offset activation and negative arousal is: \" + str(round(NAcc_NA_Off_All_corr[0], 5)) + \" with a p-value of: \" + str((NAcc_NA_Off_All_corr[1])))\n",
    "print(\"For both types of trailers, the correlation between AIns offset activation and negative arousal is: \" + str(round(AIns_NA_Off_All_corr[0], 5)) + \" with a p-value of: \" + str((AIns_NA_Off_All_corr[1])))\n",
    "print(\"For both types of trailers, the correlation between MPFC offset activation and negative arousal is: \" + str(round(MPFC_NA_Off_All_corr[0], 5)) + \" with a p-value of: \" + str((MPFC_NA_Off_All_corr[1])))\n",
    "\n",
    "print(\"\\nFor both types of trailers, the correlation between NAcc offset activation and watch scores is: \" + str(round(NAcc_W_Off_All_corr[0], 5)) + \" with a p-value of: \" + str((NAcc_W_Off_All_corr[1])))\n",
    "print(\"For both types of trailers, the correlation between AIns offset activation and watch scores is: \" + str(round(AIns_W_Off_All_corr[0], 5)) + \" with a p-value of: \" + str((AIns_W_Off_All_corr[1])))\n",
    "print(\"For both types of trailers, the correlation between MPFC offset activation and watch scores is: \" + str(round(MPFC_W_Off_All_corr[0], 5)) + \" with a p-value of: \" + str((MPFC_W_Off_All_corr[1])))"
   ]
  },
  {
   "cell_type": "code",
   "execution_count": 29,
   "metadata": {},
   "outputs": [
    {
     "name": "stdout",
     "output_type": "stream",
     "text": [
      "For comedy trailers, the correlation between NAcc offset activation and positive arousal is: 0.11834 with a p-value of: 0.05815052111048563\n",
      "For comedy trailers, the correlation between AIns offset activation and positive arousal is: 0.0605 with a p-value of: 0.3340341022984036\n",
      "For comedy trailers, the correlation between MPFC offset activation and positive arousal is: 0.0872 with a p-value of: 0.16340549068534654\n",
      "\n",
      "For comedy trailers, the correlation between NAcc offset activation and negative arousal is: -0.00767 with a p-value of: 0.9026323530334271\n",
      "For comedy trailers, the correlation between AIns offset activation and negative arousal is: -0.0431 with a p-value of: 0.4914873433848547\n",
      "For comedy trailers, the correlation between MPFC offset activation and negative arousal is: -0.07042 with a p-value of: 0.26068720262240663\n",
      "\n",
      "For comedy trailers, the correlation between NAcc offset activation and watch scores is: 0.09969 with a p-value of: 0.11085451104067338\n",
      "For comedy trailers, the correlation between AIns offset activation and watch scores is: 0.07061 with a p-value of: 0.2594054046045795\n",
      "For comedy trailers, the correlation between MPFC offset activation and watch scores is: 0.13228 with a p-value of: 0.03403688111875507\n"
     ]
    }
   ],
   "source": [
    "# Offset Neural Activation and PA-NA for Comedy Trailers.\n",
    "NAcc_PA_Off_C_corr = pearsonr(all_subs_events_comedy[\"NAcc_offset\"], all_subs_events_comedy[\"Pos_arousal\"])\n",
    "AIns_PA_Off_C_corr = pearsonr(all_subs_events_comedy[\"AIns_offset\"], all_subs_events_comedy[\"Pos_arousal\"])\n",
    "MPFC_PA_Off_C_corr = pearsonr(all_subs_events_comedy[\"MPFC_offset\"], all_subs_events_comedy[\"Pos_arousal\"])\n",
    "\n",
    "NAcc_NA_Off_C_corr = pearsonr(all_subs_events_comedy[\"NAcc_offset\"], all_subs_events_comedy[\"Neg_arousal\"])\n",
    "AIns_NA_Off_C_corr = pearsonr(all_subs_events_comedy[\"AIns_offset\"], all_subs_events_comedy[\"Neg_arousal\"])\n",
    "MPFC_NA_Off_C_corr = pearsonr(all_subs_events_comedy[\"MPFC_offset\"], all_subs_events_comedy[\"Neg_arousal\"])\n",
    "\n",
    "NAcc_W_Off_C_corr = pearsonr(all_subs_events_comedy[\"NAcc_offset\"], all_subs_events_comedy[\"W_score\"])\n",
    "AIns_W_Off_C_corr = pearsonr(all_subs_events_comedy[\"AIns_offset\"], all_subs_events_comedy[\"W_score\"])\n",
    "MPFC_W_Off_C_corr = pearsonr(all_subs_events_comedy[\"MPFC_offset\"], all_subs_events_comedy[\"W_score\"])\n",
    "\n",
    "print(\"For comedy trailers, the correlation between NAcc offset activation and positive arousal is: \" + str(round(NAcc_PA_Off_C_corr[0], 5)) + \" with a p-value of: \" + str((NAcc_PA_Off_C_corr[1])))\n",
    "print(\"For comedy trailers, the correlation between AIns offset activation and positive arousal is: \" + str(round(AIns_PA_Off_C_corr[0], 5)) + \" with a p-value of: \" + str((AIns_PA_Off_C_corr[1])))\n",
    "print(\"For comedy trailers, the correlation between MPFC offset activation and positive arousal is: \" + str(round(MPFC_PA_Off_C_corr[0], 5)) + \" with a p-value of: \" + str((MPFC_PA_Off_C_corr[1])))\n",
    "\n",
    "print(\"\\nFor comedy trailers, the correlation between NAcc offset activation and negative arousal is: \" + str(round(NAcc_NA_Off_C_corr[0], 5)) + \" with a p-value of: \" + str((NAcc_NA_Off_C_corr[1])))\n",
    "print(\"For comedy trailers, the correlation between AIns offset activation and negative arousal is: \" + str(round(AIns_NA_Off_C_corr[0], 5)) + \" with a p-value of: \" + str((AIns_NA_Off_C_corr[1])))\n",
    "print(\"For comedy trailers, the correlation between MPFC offset activation and negative arousal is: \" + str(round(MPFC_NA_Off_C_corr[0], 5)) + \" with a p-value of: \" + str((MPFC_NA_Off_C_corr[1])))\n",
    "\n",
    "print(\"\\nFor comedy trailers, the correlation between NAcc offset activation and watch scores is: \" + str(round(NAcc_W_Off_C_corr[0], 5)) + \" with a p-value of: \" + str((NAcc_W_Off_C_corr[1])))\n",
    "print(\"For comedy trailers, the correlation between AIns offset activation and watch scores is: \" + str(round(AIns_W_Off_C_corr[0], 5)) + \" with a p-value of: \" + str((AIns_W_Off_C_corr[1])))\n",
    "print(\"For comedy trailers, the correlation between MPFC offset activation and watch scores is: \" + str(round(MPFC_W_Off_C_corr[0], 5)) + \" with a p-value of: \" + str((MPFC_W_Off_C_corr[1])))\n",
    "      "
   ]
  },
  {
   "cell_type": "code",
   "execution_count": 30,
   "metadata": {},
   "outputs": [
    {
     "name": "stdout",
     "output_type": "stream",
     "text": [
      "For horror trailers, the correlation between NAcc offset activation and positive arousal is: -0.14113 with a p-value of: 0.0228370523982903\n",
      "For horror trailers, the correlation between AIns offset activation and positive arousal is: -0.08629 with a p-value of: 0.16538396191508956\n",
      "For horror trailers, the correlation between MPFC offset activation and positive arousal is: 0.01722 with a p-value of: 0.7822693392687555\n",
      "\n",
      "For horror trailers, the correlation between NAcc offset activation and negative arousal is: -0.08458 with a p-value of: 0.17391428246763205\n",
      "For horror trailers, the correlation between AIns offset activation and negative arousal is: -0.17451 with a p-value of: 0.004773159904404998\n",
      "For horror trailers, the correlation between MPFC offset activation and negative arousal is: -0.0918 with a p-value of: 0.13990443898017232\n",
      "\n",
      "For horror trailers, the correlation between NAcc offset activation and watch scores is: -0.1117 with a p-value of: 0.07217582975851054\n",
      "For horror trailers, the correlation between AIns offset activation and watch scores is: 0.02361 with a p-value of: 0.7047310606148415\n",
      "For horror trailers, the correlation between MPFC offset activation and watch scores is: 0.08489 with a p-value of: 0.17233698584508458\n"
     ]
    }
   ],
   "source": [
    "# Offset Neural Activation and PA-NA for Horror Trailers.\n",
    "NAcc_PA_Off_H_corr = pearsonr(all_subs_events_horror[\"NAcc_offset\"], all_subs_events_horror[\"Pos_arousal\"])\n",
    "AIns_PA_Off_H_corr = pearsonr(all_subs_events_horror[\"AIns_offset\"], all_subs_events_horror[\"Pos_arousal\"])\n",
    "MPFC_PA_Off_H_corr = pearsonr(all_subs_events_horror[\"MPFC_offset\"], all_subs_events_horror[\"Pos_arousal\"])\n",
    "\n",
    "NAcc_NA_Off_H_corr = pearsonr(all_subs_events_horror[\"NAcc_offset\"], all_subs_events_horror[\"Neg_arousal\"])\n",
    "AIns_NA_Off_H_corr = pearsonr(all_subs_events_horror[\"AIns_offset\"], all_subs_events_horror[\"Neg_arousal\"])\n",
    "MPFC_NA_Off_H_corr = pearsonr(all_subs_events_horror[\"MPFC_offset\"], all_subs_events_horror[\"Neg_arousal\"])\n",
    "\n",
    "NAcc_W_Off_H_corr = pearsonr(all_subs_events_horror[\"NAcc_offset\"], all_subs_events_horror[\"W_score\"])\n",
    "AIns_W_Off_H_corr = pearsonr(all_subs_events_horror[\"AIns_offset\"], all_subs_events_horror[\"W_score\"])\n",
    "MPFC_W_Off_H_corr = pearsonr(all_subs_events_horror[\"MPFC_offset\"], all_subs_events_horror[\"W_score\"])\n",
    "\n",
    "print(\"For horror trailers, the correlation between NAcc offset activation and positive arousal is: \" + str(round(NAcc_PA_Off_H_corr[0], 5)) + \" with a p-value of: \" + str((NAcc_PA_Off_H_corr[1])))\n",
    "print(\"For horror trailers, the correlation between AIns offset activation and positive arousal is: \" + str(round(AIns_PA_Off_H_corr[0], 5)) + \" with a p-value of: \" + str((AIns_PA_Off_H_corr[1])))\n",
    "print(\"For horror trailers, the correlation between MPFC offset activation and positive arousal is: \" + str(round(MPFC_PA_Off_H_corr[0], 5)) + \" with a p-value of: \" + str((MPFC_PA_Off_H_corr[1])))\n",
    "\n",
    "print(\"\\nFor horror trailers, the correlation between NAcc offset activation and negative arousal is: \" + str(round(NAcc_NA_Off_H_corr[0], 5)) + \" with a p-value of: \" + str((NAcc_NA_Off_H_corr[1])))\n",
    "print(\"For horror trailers, the correlation between AIns offset activation and negative arousal is: \" + str(round(AIns_NA_Off_H_corr[0], 5)) + \" with a p-value of: \" + str((AIns_NA_Off_H_corr[1])))\n",
    "print(\"For horror trailers, the correlation between MPFC offset activation and negative arousal is: \" + str(round(MPFC_NA_Off_H_corr[0], 5)) + \" with a p-value of: \" + str((MPFC_NA_Off_H_corr[1])))\n",
    "\n",
    "print(\"\\nFor horror trailers, the correlation between NAcc offset activation and watch scores is: \" + str(round(NAcc_W_Off_H_corr[0], 5)) + \" with a p-value of: \" + str((NAcc_W_Off_H_corr[1])))\n",
    "print(\"For horror trailers, the correlation between AIns offset activation and watch scores is: \" + str(round(AIns_W_Off_H_corr[0], 5)) + \" with a p-value of: \" + str((AIns_W_Off_H_corr[1])))\n",
    "print(\"For horror trailers, the correlation between MPFC offset activation and watch scores is: \" + str(round(MPFC_W_Off_H_corr[0], 5)) + \" with a p-value of: \" + str((MPFC_W_Off_H_corr[1])))"
   ]
  },
  {
   "cell_type": "markdown",
   "metadata": {},
   "source": [
    "## Neural ISC"
   ]
  },
  {
   "cell_type": "code",
   "execution_count": 31,
   "metadata": {},
   "outputs": [
    {
     "name": "stdout",
     "output_type": "stream",
     "text": [
      "For both types of trailers, the correlation between NAcc onset activation and positive arousal is: 0.01815 with a p-value of: 0.6804811562602483\n",
      "For both types of trailers, the correlation between AIns onset activation and positive arousal is: 0.00972 with a p-value of: 0.8255825696303636\n",
      "For both types of trailers, the correlation between MPFC onset activation and positive arousal is: 0.00749 with a p-value of: 0.8651623139746782\n",
      "\n",
      "For both types of trailers, the correlation between NAcc onset activation and negative arousal is: -0.03073 with a p-value of: 0.48568254522750026\n",
      "For both types of trailers, the correlation between AIns onset activation and negative arousal is: -0.05125 with a p-value of: 0.24473310093958167\n",
      "For both types of trailers, the correlation between MPFC onset activation and negative arousal is: -0.02884 with a p-value of: 0.5129297292901406\n",
      "\n",
      "For both types of trailers, the correlation between NAcc onset activation and watch scores is: 0.02278 with a p-value of: 0.6052947471136041\n",
      "For both types of trailers, the correlation between AIns onset activation and watch scores is: 0.05008 with a p-value of: 0.2556686713314027\n",
      "For both types of trailers, the correlation between MPFC onset activation and watch scores is: 0.0292 with a p-value of: 0.5077348657603143\n"
     ]
    }
   ],
   "source": [
    "# Correlation with Positive Arousal.\n",
    "NAcc_PA_On_All_corr = pearsonr(all_subs_events_df[\"NAcc_onset\"], all_subs_events_df[\"Pos_arousal\"])\n",
    "AIns_PA_On_All_corr = pearsonr(all_subs_events_df[\"AIns_onset\"], all_subs_events_df[\"Pos_arousal\"])\n",
    "MPFC_PA_On_All_corr = pearsonr(all_subs_events_df[\"MPFC_onset\"], all_subs_events_df[\"Pos_arousal\"])\n",
    "\n",
    "# Correlation with Negative Arousal.\n",
    "NAcc_NA_On_All_corr = pearsonr(all_subs_events_df[\"NAcc_onset\"], all_subs_events_df[\"Neg_arousal\"])\n",
    "AIns_NA_On_All_corr = pearsonr(all_subs_events_df[\"AIns_onset\"], all_subs_events_df[\"Neg_arousal\"])\n",
    "MPFC_NA_On_All_corr = pearsonr(all_subs_events_df[\"MPFC_onset\"], all_subs_events_df[\"Neg_arousal\"])\n",
    "\n",
    "# Correlation with Watch Scores.\n",
    "NAcc_W_On_All_corr = pearsonr(all_subs_events_df[\"NAcc_onset\"], all_subs_events_df[\"W_score\"])\n",
    "AIns_W_On_All_corr = pearsonr(all_subs_events_df[\"AIns_onset\"], all_subs_events_df[\"W_score\"])\n",
    "MPFC_W_On_All_corr = pearsonr(all_subs_events_df[\"MPFC_onset\"], all_subs_events_df[\"W_score\"])\n",
    "\n",
    "print(\"For both types of trailers, the correlation between NAcc onset activation and positive arousal is: \" + str(round(NAcc_PA_On_All_corr[0], 5)) + \" with a p-value of: \" + str((NAcc_PA_On_All_corr[1])))\n",
    "print(\"For both types of trailers, the correlation between AIns onset activation and positive arousal is: \" + str(round(AIns_PA_On_All_corr[0], 5)) + \" with a p-value of: \" + str((AIns_PA_On_All_corr[1])))\n",
    "print(\"For both types of trailers, the correlation between MPFC onset activation and positive arousal is: \" + str(round(MPFC_PA_On_All_corr[0], 5)) + \" with a p-value of: \" + str((MPFC_PA_On_All_corr[1])))\n",
    "\n",
    "print(\"\\nFor both types of trailers, the correlation between NAcc onset activation and negative arousal is: \" + str(round(NAcc_NA_On_All_corr[0], 5)) + \" with a p-value of: \" + str((NAcc_NA_On_All_corr[1])))\n",
    "print(\"For both types of trailers, the correlation between AIns onset activation and negative arousal is: \" + str(round(AIns_NA_On_All_corr[0], 5)) + \" with a p-value of: \" + str((AIns_NA_On_All_corr[1])))\n",
    "print(\"For both types of trailers, the correlation between MPFC onset activation and negative arousal is: \" + str(round(MPFC_NA_On_All_corr[0], 5)) + \" with a p-value of: \" + str((MPFC_NA_On_All_corr[1])))\n",
    "\n",
    "print(\"\\nFor both types of trailers, the correlation between NAcc onset activation and watch scores is: \" + str(round(NAcc_W_On_All_corr[0], 5)) + \" with a p-value of: \" + str((NAcc_W_On_All_corr[1])))\n",
    "print(\"For both types of trailers, the correlation between AIns onset activation and watch scores is: \" + str(round(AIns_W_On_All_corr[0], 5)) + \" with a p-value of: \" + str((AIns_W_On_All_corr[1])))\n",
    "print(\"For both types of trailers, the correlation between MPFC onset activation and watch scores is: \" + str(round(MPFC_W_On_All_corr[0], 5)) + \" with a p-value of: \" + str((MPFC_W_On_All_corr[1])))"
   ]
  },
  {
   "cell_type": "code",
   "execution_count": 32,
   "metadata": {},
   "outputs": [
    {
     "name": "stdout",
     "output_type": "stream",
     "text": [
      "For comedy trailers, the correlation between NAcc onset activation and positive arousal is: -0.0358 with a p-value of: 0.567787248648802\n",
      "For comedy trailers, the correlation between AIns onset activation and positive arousal is: -0.02091 with a p-value of: 0.7387034366264345\n",
      "For comedy trailers, the correlation between MPFC onset activation and positive arousal is: 0.02161 with a p-value of: 0.7302390172203331\n",
      "\n",
      "For comedy trailers, the correlation between NAcc onset activation and negative arousal is: -0.07558 with a p-value of: 0.22724257934213551\n",
      "For comedy trailers, the correlation between AIns onset activation and negative arousal is: -0.03608 with a p-value of: 0.564752411769056\n",
      "For comedy trailers, the correlation between MPFC onset activation and negative arousal is: -0.06348 with a p-value of: 0.310737832699865\n",
      "\n",
      "For comedy trailers, the correlation between NAcc onset activation and watch scores is: -0.00058 with a p-value of: 0.9926650876925187\n",
      "For comedy trailers, the correlation between AIns onset activation and watch scores is: -0.01151 with a p-value of: 0.8542931193289347\n",
      "For comedy trailers, the correlation between MPFC onset activation and watch scores is: 0.06562 with a p-value of: 0.2946749967650581\n"
     ]
    }
   ],
   "source": [
    "# Onset Neural Activation and PA-NA for Comedy Trailers.\n",
    "NAcc_PA_On_C_corr = pearsonr(all_subs_events_comedy[\"NAcc_onset\"], all_subs_events_comedy[\"Pos_arousal\"])\n",
    "AIns_PA_On_C_corr = pearsonr(all_subs_events_comedy[\"AIns_onset\"], all_subs_events_comedy[\"Pos_arousal\"])\n",
    "MPFC_PA_On_C_corr = pearsonr(all_subs_events_comedy[\"MPFC_onset\"], all_subs_events_comedy[\"Pos_arousal\"])\n",
    "\n",
    "NAcc_NA_On_C_corr = pearsonr(all_subs_events_comedy[\"NAcc_onset\"], all_subs_events_comedy[\"Neg_arousal\"])\n",
    "AIns_NA_On_C_corr = pearsonr(all_subs_events_comedy[\"AIns_onset\"], all_subs_events_comedy[\"Neg_arousal\"])\n",
    "MPFC_NA_On_C_corr = pearsonr(all_subs_events_comedy[\"MPFC_onset\"], all_subs_events_comedy[\"Neg_arousal\"])\n",
    "\n",
    "NAcc_W_On_C_corr = pearsonr(all_subs_events_comedy[\"NAcc_onset\"], all_subs_events_comedy[\"W_score\"])\n",
    "AIns_W_On_C_corr = pearsonr(all_subs_events_comedy[\"AIns_onset\"], all_subs_events_comedy[\"W_score\"])\n",
    "MPFC_W_On_C_corr = pearsonr(all_subs_events_comedy[\"MPFC_onset\"], all_subs_events_comedy[\"W_score\"])\n",
    "\n",
    "print(\"For comedy trailers, the correlation between NAcc onset activation and positive arousal is: \" + str(round(NAcc_PA_On_C_corr[0], 5)) + \" with a p-value of: \" + str((NAcc_PA_On_C_corr[1])))\n",
    "print(\"For comedy trailers, the correlation between AIns onset activation and positive arousal is: \" + str(round(AIns_PA_On_C_corr[0], 5)) + \" with a p-value of: \" + str((AIns_PA_On_C_corr[1])))\n",
    "print(\"For comedy trailers, the correlation between MPFC onset activation and positive arousal is: \" + str(round(MPFC_PA_On_C_corr[0], 5)) + \" with a p-value of: \" + str((MPFC_PA_On_C_corr[1])))\n",
    "\n",
    "print(\"\\nFor comedy trailers, the correlation between NAcc onset activation and negative arousal is: \" + str(round(NAcc_NA_On_C_corr[0], 5)) + \" with a p-value of: \" + str((NAcc_NA_On_C_corr[1])))\n",
    "print(\"For comedy trailers, the correlation between AIns onset activation and negative arousal is: \" + str(round(AIns_NA_On_C_corr[0], 5)) + \" with a p-value of: \" + str((AIns_NA_On_C_corr[1])))\n",
    "print(\"For comedy trailers, the correlation between MPFC onset activation and negative arousal is: \" + str(round(MPFC_NA_On_C_corr[0], 5)) + \" with a p-value of: \" + str((MPFC_NA_On_C_corr[1])))\n",
    "\n",
    "print(\"\\nFor comedy trailers, the correlation between NAcc onset activation and watch scores is: \" + str(round(NAcc_W_On_C_corr[0], 5)) + \" with a p-value of: \" + str((NAcc_W_On_C_corr[1])))\n",
    "print(\"For comedy trailers, the correlation between AIns onset activation and watch scores is: \" + str(round(AIns_W_On_C_corr[0], 5)) + \" with a p-value of: \" + str((AIns_W_On_C_corr[1])))\n",
    "print(\"For comedy trailers, the correlation between MPFC onset activation and watch scores is: \" + str(round(MPFC_W_On_C_corr[0], 5)) + \" with a p-value of: \" + str((MPFC_W_On_C_corr[1])))"
   ]
  },
  {
   "cell_type": "code",
   "execution_count": 33,
   "metadata": {},
   "outputs": [
    {
     "name": "stdout",
     "output_type": "stream",
     "text": [
      "For horror trailers, the correlation between NAcc onset activation and positive arousal is: 0.07481 with a p-value of: 0.2292903636290606\n",
      "For horror trailers, the correlation between AIns onset activation and positive arousal is: 0.04363 with a p-value of: 0.4836231153026342\n",
      "For horror trailers, the correlation between MPFC onset activation and positive arousal is: -0.01162 with a p-value of: 0.8521150297803344\n",
      "\n",
      "For horror trailers, the correlation between NAcc onset activation and negative arousal is: 0.01084 with a p-value of: 0.8618665885041974\n",
      "For horror trailers, the correlation between AIns onset activation and negative arousal is: -0.05033 with a p-value of: 0.41897553240896723\n",
      "For horror trailers, the correlation between MPFC onset activation and negative arousal is: -0.03605 with a p-value of: 0.562772517278439\n",
      "\n",
      "For horror trailers, the correlation between NAcc onset activation and watch scores is: 0.04099 with a p-value of: 0.5105552914310515\n",
      "For horror trailers, the correlation between AIns onset activation and watch scores is: 0.10095 with a p-value of: 0.104342625767561\n",
      "For horror trailers, the correlation between MPFC onset activation and watch scores is: 0.00767 with a p-value of: 0.9020481303399862\n"
     ]
    }
   ],
   "source": [
    "# Onset Neural Activation and PA-NA for Horror Trailers.\n",
    "NAcc_PA_On_H_corr = pearsonr(all_subs_events_horror[\"NAcc_onset\"], all_subs_events_horror[\"Pos_arousal\"])\n",
    "AIns_PA_On_H_corr = pearsonr(all_subs_events_horror[\"AIns_onset\"], all_subs_events_horror[\"Pos_arousal\"])\n",
    "MPFC_PA_On_H_corr = pearsonr(all_subs_events_horror[\"MPFC_onset\"], all_subs_events_horror[\"Pos_arousal\"])\n",
    "\n",
    "NAcc_NA_On_H_corr = pearsonr(all_subs_events_horror[\"NAcc_onset\"], all_subs_events_horror[\"Neg_arousal\"])\n",
    "AIns_NA_On_H_corr = pearsonr(all_subs_events_horror[\"AIns_onset\"], all_subs_events_horror[\"Neg_arousal\"])\n",
    "MPFC_NA_On_H_corr = pearsonr(all_subs_events_horror[\"MPFC_onset\"], all_subs_events_horror[\"Neg_arousal\"])\n",
    "\n",
    "NAcc_W_On_H_corr = pearsonr(all_subs_events_horror[\"NAcc_onset\"], all_subs_events_horror[\"W_score\"])\n",
    "AIns_W_On_H_corr = pearsonr(all_subs_events_horror[\"AIns_onset\"], all_subs_events_horror[\"W_score\"])\n",
    "MPFC_W_On_H_corr = pearsonr(all_subs_events_horror[\"MPFC_onset\"], all_subs_events_horror[\"W_score\"])\n",
    "\n",
    "print(\"For horror trailers, the correlation between NAcc onset activation and positive arousal is: \" + str(round(NAcc_PA_On_H_corr[0], 5)) + \" with a p-value of: \" + str((NAcc_PA_On_H_corr[1])))\n",
    "print(\"For horror trailers, the correlation between AIns onset activation and positive arousal is: \" + str(round(AIns_PA_On_H_corr[0], 5)) + \" with a p-value of: \" + str((AIns_PA_On_H_corr[1])))\n",
    "print(\"For horror trailers, the correlation between MPFC onset activation and positive arousal is: \" + str(round(MPFC_PA_On_H_corr[0], 5)) + \" with a p-value of: \" + str((MPFC_PA_On_H_corr[1])))\n",
    "\n",
    "print(\"\\nFor horror trailers, the correlation between NAcc onset activation and negative arousal is: \" + str(round(NAcc_NA_On_H_corr[0], 5)) + \" with a p-value of: \" + str((NAcc_NA_On_H_corr[1])))\n",
    "print(\"For horror trailers, the correlation between AIns onset activation and negative arousal is: \" + str(round(AIns_NA_On_H_corr[0], 5)) + \" with a p-value of: \" + str((AIns_NA_On_H_corr[1])))\n",
    "print(\"For horror trailers, the correlation between MPFC onset activation and negative arousal is: \" + str(round(MPFC_NA_On_H_corr[0], 5)) + \" with a p-value of: \" + str((MPFC_NA_On_H_corr[1])))\n",
    "\n",
    "print(\"\\nFor horror trailers, the correlation between NAcc onset activation and watch scores is: \" + str(round(NAcc_W_On_H_corr[0], 5)) + \" with a p-value of: \" + str((NAcc_W_On_H_corr[1])))\n",
    "print(\"For horror trailers, the correlation between AIns onset activation and watch scores is: \" + str(round(AIns_W_On_H_corr[0], 5)) + \" with a p-value of: \" + str((AIns_W_On_H_corr[1])))\n",
    "print(\"For horror trailers, the correlation between MPFC onset activation and watch scores is: \" + str(round(MPFC_W_On_H_corr[0], 5)) + \" with a p-value of: \" + str((MPFC_W_On_H_corr[1])))"
   ]
  },
  {
   "cell_type": "code",
   "execution_count": null,
   "metadata": {},
   "outputs": [],
   "source": []
  },
  {
   "cell_type": "code",
   "execution_count": null,
   "metadata": {},
   "outputs": [],
   "source": []
  },
  {
   "cell_type": "code",
   "execution_count": null,
   "metadata": {},
   "outputs": [],
   "source": []
  },
  {
   "cell_type": "code",
   "execution_count": null,
   "metadata": {},
   "outputs": [],
   "source": []
  }
 ],
 "metadata": {
  "kernelspec": {
   "display_name": "base",
   "language": "python",
   "name": "python3"
  },
  "language_info": {
   "codemirror_mode": {
    "name": "ipython",
    "version": 3
   },
   "file_extension": ".py",
   "mimetype": "text/x-python",
   "name": "python",
   "nbconvert_exporter": "python",
   "pygments_lexer": "ipython3",
   "version": "3.9.16"
  }
 },
 "nbformat": 4,
 "nbformat_minor": 2
}
